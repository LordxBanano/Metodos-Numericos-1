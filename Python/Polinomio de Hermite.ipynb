{
  "nbformat": 4,
  "nbformat_minor": 0,
  "metadata": {
    "colab": {
      "provenance": []
    },
    "kernelspec": {
      "name": "python3",
      "display_name": "Python 3"
    },
    "language_info": {
      "name": "python"
    }
  },
  "cells": [
    {
      "cell_type": "code",
      "execution_count": 4,
      "metadata": {
        "colab": {
          "base_uri": "https://localhost:8080/"
        },
        "id": "bOXcv6R4PE7L",
        "outputId": "bbc3d018-6896-4950-87e8-cd4c49044895"
      },
      "outputs": [
        {
          "output_type": "stream",
          "name": "stdout",
          "text": [
            "Tabla de diferencias divididas de Hermite:\n",
            "z[0] = 1.3000\tQ[0,0] = 0.620860\t\n",
            "z[1] = 1.3000\tQ[1,0] = 0.620860\tQ[1,1] = -0.522023\t\n",
            "z[2] = 1.6000\tQ[2,0] = 0.455402\tQ[2,1] = -0.551526\tQ[2,2] = -0.098343\t\n",
            "z[3] = 1.6000\tQ[3,0] = 0.455402\tQ[3,1] = -0.569859\tQ[3,2] = -0.061110\tQ[3,3] = 0.124109\t\n",
            "z[4] = 1.9000\tQ[4,0] = 0.281819\tQ[4,1] = -0.578612\tQ[4,2] = -0.029177\tQ[4,3] = 0.053222\tQ[4,4] = -0.118144\t\n",
            "z[5] = 1.9000\tQ[5,0] = 0.281819\tQ[5,1] = -0.581571\tQ[5,2] = -0.009863\tQ[5,3] = 0.064378\tQ[5,4] = 0.018593\tQ[5,5] = 0.227895\t\n",
            "\n",
            "Polinomio de Hermite:\n",
            "\n",
            "Aproximación de f(1.5) usando el polinomio de Hermite: 0.511941\n"
          ]
        }
      ],
      "source": [
        "# Código creado por Joshua Mijangos López, 08/12/24\n",
        "# Este código está hecho para que el valor en donde se busca evaluar el comportamiento de la función se modifique desde aquí\n",
        "\n",
        "import numpy as np\n",
        "\n",
        "# Datos del ejemplo 1\n",
        "valores_x = [1.3, 1.6, 1.9]  # Valores de x_k\n",
        "valores_fx = [0.620860, 0.4554022, 0.2818186]  # Valores de f(x_k)\n",
        "valores_dfx = [-0.5220232, -0.569859, -0.581571]  # Valores de f'(x_k)\n",
        "\n",
        "# Preparación de las variables\n",
        "n = len(valores_x)\n",
        "z = []  # Vector para almacenar z_i\n",
        "diferencias_divididas = []  # Vector para almacenar diferencias divididas\n",
        "\n",
        "# Paso 1 y Paso 2: Inicialización de z y diferencias divididas\n",
        "for i in range(n):\n",
        "    z.append(valores_x[i])\n",
        "    z.append(valores_x[i])\n",
        "    diferencias_divididas.append(valores_fx[i])\n",
        "    diferencias_divididas.append(valores_fx[i])\n",
        "\n",
        "# Expandimos la matriz de diferencias divididas\n",
        "Q = np.zeros((2*n, 2*n))\n",
        "for i in range(2*n):\n",
        "    Q[i, 0] = diferencias_divididas[i]\n",
        "\n",
        "# Paso 3 y Paso 4: Cálculo de las diferencias divididas\n",
        "for i in range(1, 2*n):\n",
        "    for j in range(1, i+1):\n",
        "        if j == 1 and i % 2 == 1:  # Para derivadas iniciales\n",
        "            Q[i, j] = valores_dfx[i//2]\n",
        "        else:\n",
        "            Q[i, j] = (Q[i, j-1] - Q[i-1, j-1]) / (z[i] - z[i-j])\n",
        "\n",
        "# Mostramos la tabla de diferencias divididas\n",
        "print(\"Tabla de diferencias divididas de Hermite:\")\n",
        "for i in range(2*n):\n",
        "    print(f\"z[{i}] = {z[i]:.4f}\", end=\"\\t\")\n",
        "    for j in range(i+1):\n",
        "        print(f\"Q[{i},{j}] = {Q[i, j]:.6f}\", end=\"\\t\")\n",
        "    print()\n",
        "\n",
        "# Construcción del polinomio de Hermite\n",
        "print(\"\\nPolinomio de Hermite:\")\n",
        "def polinomio_hermite(valor_x):\n",
        "    resultado = Q[0, 0]\n",
        "    producto = 1.0\n",
        "    for i in range(1, 2*n):\n",
        "        producto *= (valor_x - z[i-1])\n",
        "        resultado += Q[i, i] * producto\n",
        "    return resultado\n",
        "\n",
        "# Evaluamos el polinomio en x = 1.5\n",
        "valor_x = 1.5\n",
        "aproximacion = polinomio_hermite(valor_x)\n",
        "print(f\"\\nAproximación de f({valor_x}) usando el polinomio de Hermite: {aproximacion:.6f}\")\n"
      ]
    }
  ]
}