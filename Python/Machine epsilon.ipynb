{
  "nbformat": 4,
  "nbformat_minor": 0,
  "metadata": {
    "colab": {
      "provenance": []
    },
    "kernelspec": {
      "name": "python3",
      "display_name": "Python 3"
    },
    "language_info": {
      "name": "python"
    }
  },
  "cells": [
    {
      "cell_type": "code",
      "source": [
        "# Código creado por Joshua Mijangos, el día 23/ 09/ 24"
      ],
      "metadata": {
        "id": "uZTXybRmdNit"
      },
      "execution_count": null,
      "outputs": []
    },
    {
      "cell_type": "markdown",
      "source": [
        "El **épsilon de la máquina** es el número más pequeño 𝜖 tal que 1 + 𝜖 sea distinguible de 1 en el sistema de punto flotante de una máquina.\n",
        "\n",
        "En otras palabras, es una medida de la precisión de los números de punto flotante.\n",
        "\n",
        "En Python, puedes obtener el valor del épsilon de la máquina utilizando el módulo numpy o sys."
      ],
      "metadata": {
        "id": "TbtCnoKAcGfC"
      }
    },
    {
      "cell_type": "code",
      "source": [
        "# Utilizando Numpy\n",
        "\n",
        "import numpy as np\n",
        "\n",
        "epsilon = np.finfo(float).eps\n",
        "print(\"El épsilon de la máquina es:\", epsilon)"
      ],
      "metadata": {
        "colab": {
          "base_uri": "https://localhost:8080/"
        },
        "id": "L3BYP-fHZ196",
        "outputId": "e93f2668-a672-4e59-b71a-41da1e6a7da8"
      },
      "execution_count": 18,
      "outputs": [
        {
          "output_type": "stream",
          "name": "stdout",
          "text": [
            "El épsilon de la máquina es: 2.220446049250313e-16\n"
          ]
        }
      ]
    },
    {
      "cell_type": "code",
      "source": [
        "# Utilizando Numpy\n",
        "\n",
        "import sys\n",
        "\n",
        "epsilon = sys.float_info.epsilon\n",
        "print(\"El épsilon de la máquina es:\", epsilon)"
      ],
      "metadata": {
        "colab": {
          "base_uri": "https://localhost:8080/"
        },
        "id": "m04yF2Utarfo",
        "outputId": "9e17cef8-b914-4fa5-a0be-dac4031331b4"
      },
      "execution_count": 19,
      "outputs": [
        {
          "output_type": "stream",
          "name": "stdout",
          "text": [
            "El épsilon de la máquina es: 2.220446049250313e-16\n"
          ]
        }
      ]
    },
    {
      "cell_type": "markdown",
      "source": [
        "También podemos calcular el épsilon de la máquina utilizando un ciclo *while* que divida sucesivamente el valor de 𝜖 a la mitad hasta que 1+𝜖 sea indistinguible de 1 en el sistema de punto flotante de la máquina."
      ],
      "metadata": {
        "id": "oVHGK7cFcDtQ"
      }
    },
    {
      "cell_type": "code",
      "source": [
        "epsilon = 1.0\n",
        "\n",
        "# Mientras que 1 + epsilon sea mayor que 1, sigue reduciendo epsilon a la mitad\n",
        "while 1.0 + epsilon > 1.0:\n",
        "    epsilon /= 2.0\n",
        "\n",
        "# Dado que el último epsilon hizo que 1 + epsilon fuera indistinguible de 1,\n",
        "# multiplicamos de nuevo por 2 para obtener el valor correcto de epsilon.\n",
        "epsilon *= 2.0\n",
        "\n",
        "print(\"El épsilon de la máquina calculado es:\", epsilon)"
      ],
      "metadata": {
        "id": "2S2zEbNZccIM"
      },
      "execution_count": null,
      "outputs": []
    },
    {
      "cell_type": "markdown",
      "source": [
        "**Explicación:**\n",
        "\n",
        "1.   Inicias con 𝜖 = 1.0\n",
        "2.   En el ciclo while, divides 𝜖 a la mitad hasta que 1.0+𝜖 sea igual a 1.0, lo que indica que ya no puede ser distinguido por la máquina.\n",
        "3.  Luego, multiplicas el último valor de 𝜖 por 2, ya que el valor actual es el primer valor que no se distinguió de 1.\n",
        "4.  Imprimes el valor final de del épsilon de la máquina.\n",
        "\n",
        "\n",
        "\n",
        "\n",
        "\n",
        "\n"
      ],
      "metadata": {
        "id": "g8LVXqiZci7l"
      }
    }
  ]
}