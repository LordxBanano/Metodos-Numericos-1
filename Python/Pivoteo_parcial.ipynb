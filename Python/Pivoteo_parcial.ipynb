{
  "nbformat": 4,
  "nbformat_minor": 0,
  "metadata": {
    "colab": {
      "provenance": []
    },
    "kernelspec": {
      "name": "python3",
      "display_name": "Python 3"
    },
    "language_info": {
      "name": "python"
    }
  },
  "cells": [
    {
      "cell_type": "code",
      "execution_count": 5,
      "metadata": {
        "colab": {
          "base_uri": "https://localhost:8080/"
        },
        "id": "aL8s402sNqtJ",
        "outputId": "8a22f7a1-3c16-4a04-d458-0bd15ed21668"
      },
      "outputs": [
        {
          "output_type": "stream",
          "name": "stdout",
          "text": [
            "La solución aproximada del sistema es:\n",
            "x1 = 10.0019, x2 = 1.0000\n"
          ]
        }
      ],
      "source": [
        "# Código creado por Joshua Mijangos López, 05/01/25\n",
        "# Este código está hecho para que los sistemas de ecs. a los que se le aplicará el método se modifiquen desde aquí\n",
        "# Este código no acepta datos de ingreso desde consola\n",
        "\n",
        "import numpy as np\n",
        "\n",
        "def eliminacion_gaussiana_pivote_parcial(A, b):\n",
        "    n = len(A)\n",
        "    # Crear la matriz aumentada\n",
        "    Ab = np.hstack((A, b.reshape(-1, 1)))\n",
        "\n",
        "    # Inicializar el indicador de filas\n",
        "    NROW = np.arange(n)\n",
        "\n",
        "    # Proceso de eliminación\n",
        "    for i in range(n - 1):\n",
        "        # Paso 3: Encontrar el pivote\n",
        "        p = np.argmax(np.abs(Ab[NROW[i:], i])) + i\n",
        "\n",
        "        # Paso 4: Verificar si el sistema no tiene solución única\n",
        "        if Ab[NROW[p], i] == 0:\n",
        "            return \"El sistema no tiene solución única.\"\n",
        "\n",
        "        # Paso 5: Intercambiar filas si es necesario\n",
        "        if NROW[i] != NROW[p]:\n",
        "            NROW[i], NROW[p] = NROW[p], NROW[i]\n",
        "\n",
        "        # Paso 6-8: Eliminación de Gauss\n",
        "        for j in range(i + 1, n):\n",
        "            m = Ab[NROW[j], i] / Ab[NROW[i], i]\n",
        "            Ab[NROW[j], i:] -= m * Ab[NROW[i], i:]\n",
        "\n",
        "    # Paso 9: Verificar si el sistema no tiene solución única\n",
        "    if Ab[NROW[-1], -2] == 0:\n",
        "        return \"El sistema no tiene solución única.\"\n",
        "\n",
        "    # Sustitución hacia atrás\n",
        "    x = np.zeros(n)\n",
        "    for i in range(n - 1, -1, -1):\n",
        "        x[i] = (Ab[NROW[i], -1] - np.sum(Ab[NROW[i], i + 1:-1] * x[i + 1:])) / Ab[NROW[i], i]\n",
        "\n",
        "    return x\n",
        "\n",
        "# Ejemplo 2\n",
        "A = np.array([[0.003, 59.14],\n",
        "              [5.29, -6.13]])\n",
        "b = np.array([59.17, 46.78])\n",
        "\n",
        "# Resolver el sistema\n",
        "solucion = eliminacion_gaussiana_pivote_parcial(A, b)\n",
        "\n",
        "if isinstance(solucion, str):\n",
        "    print(solucion)\n",
        "else:\n",
        "    print(\"La solución aproximada del sistema es:\")\n",
        "    print(f\"x1 = {solucion[0]:.4f}, x2 = {solucion[1]:.4f}\")\n",
        "\n"
      ]
    }
  ]
}