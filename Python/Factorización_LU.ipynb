{
  "nbformat": 4,
  "nbformat_minor": 0,
  "metadata": {
    "colab": {
      "provenance": []
    },
    "kernelspec": {
      "name": "python3",
      "display_name": "Python 3"
    },
    "language_info": {
      "name": "python"
    }
  },
  "cells": [
    {
      "cell_type": "code",
      "execution_count": 4,
      "metadata": {
        "colab": {
          "base_uri": "https://localhost:8080/"
        },
        "id": "GpD4gex49I2R",
        "outputId": "9341fb4d-5be8-4e73-c7a3-fff528f2991f"
      },
      "outputs": [
        {
          "output_type": "stream",
          "name": "stdout",
          "text": [
            "Matriz L:\n",
            "[[ 1.  0.  0.  0.]\n",
            " [ 2.  1.  0.  0.]\n",
            " [ 3.  4.  1.  0.]\n",
            " [-1. -3.  0.  1.]]\n",
            "\n",
            "Matriz U:\n",
            "[[  1.   1.   0.   3.]\n",
            " [  0.  -1.  -1.  -5.]\n",
            " [  0.   0.   3.  13.]\n",
            " [  0.   0.   0. -13.]]\n",
            "\n",
            "Verificación (L @ U):\n",
            "[[ 1.  1.  0.  3.]\n",
            " [ 2.  1. -1.  1.]\n",
            " [ 3. -1. -1.  2.]\n",
            " [-1.  2.  3. -1.]]\n"
          ]
        }
      ],
      "source": [
        "# Código creado por Joshua Mijangos López, 12/01/25\n",
        "# Este código está hecho para que las matrices a las que se le aplicará el método se modifiquen desde aquí\n",
        "# Este código no acepta datos de ingreso desde consola\n",
        "\n",
        "import numpy as np\n",
        "\n",
        "def lu_factorization(A):\n",
        "    n = A.shape[0]\n",
        "    L = np.zeros((n, n))\n",
        "    U = np.zeros((n, n))\n",
        "\n",
        "    for i in range(n):\n",
        "        # Paso 1: Calcular elementos de U en la fila i\n",
        "        for j in range(i, n):\n",
        "            U[i, j] = A[i, j] - sum(L[i, k] * U[k, j] for k in range(i))\n",
        "\n",
        "        # Paso 2: Calcular elementos de L en la columna i\n",
        "        for j in range(i, n):\n",
        "            if i == j:\n",
        "                L[i, i] = 1  # Elementos de la diagonal de L son 1\n",
        "            else:\n",
        "                L[j, i] = (A[j, i] - sum(L[j, k] * U[k, i] for k in range(i))) / U[i, i]\n",
        "\n",
        "    return L, U\n",
        "\n",
        "# Matriz A del ejemplo 2\n",
        "A = np.array([\n",
        "    [1, 1, 0, 3],\n",
        "    [2, 1, -1, 1],\n",
        "    [3, -1, -1, 2],\n",
        "    [-1, 2, 3, -1]\n",
        "], dtype=float)\n",
        "\n",
        "# Verificar factorización LU\n",
        "L, U = lu_factorization(A)\n",
        "\n",
        "# Mostrar resultados\n",
        "print(\"Matriz L:\")\n",
        "print(L)\n",
        "print(\"\\nMatriz U:\")\n",
        "print(U)\n",
        "\n",
        "# Verificación: L @ U debe ser igual a A\n",
        "print(\"\\nVerificación (L @ U):\")\n",
        "print(np.dot(L, U))"
      ]
    }
  ]
}