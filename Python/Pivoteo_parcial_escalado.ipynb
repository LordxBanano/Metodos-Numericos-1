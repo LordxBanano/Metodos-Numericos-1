{
  "nbformat": 4,
  "nbformat_minor": 0,
  "metadata": {
    "colab": {
      "provenance": []
    },
    "kernelspec": {
      "name": "python3",
      "display_name": "Python 3"
    },
    "language_info": {
      "name": "python"
    }
  },
  "cells": [
    {
      "cell_type": "code",
      "execution_count": 5,
      "metadata": {
        "colab": {
          "base_uri": "https://localhost:8080/"
        },
        "id": "2TgfU7ayKWGl",
        "outputId": "bbe70e6f-ff51-4d47-fb3e-9e27de5acdf2"
      },
      "outputs": [
        {
          "output_type": "stream",
          "name": "stdout",
          "text": [
            "La solución del sistema es: [-0.427  0.427  5.113]\n"
          ]
        }
      ],
      "source": [
        "# Código creado por Joshua Mijangos López, 02/01/25\n",
        "# Este código está hecho para que los sistemas de ecs. a los que se le aplicará el método se modifiquen desde aquí\n",
        "# Este código no acepta datos de ingreso desde consola\n",
        "\n",
        "import numpy as np\n",
        "\n",
        "# Datos de entrada: matriz aumentada y redondeo a tres dígitos\n",
        "matriz = np.array([\n",
        "    [2.11, -4.21, 0.921, 2.01],\n",
        "    [4.01, 10.2, -1.12, -3.09],\n",
        "    [1.09, 0.987, 0.832, 4.21]\n",
        "])\n",
        "\n",
        "def eliminacion_gaussiana_pivoteo_parcial_escalado(matriz):\n",
        "    n = len(matriz)  # Número de filas\n",
        "\n",
        "    # Inicializamos NROW y los factores de escala s_i\n",
        "    indices_filas = np.arange(n)\n",
        "    escala = np.max(np.abs(matriz[:, :-1]), axis=1)  # Valores máximos por fila\n",
        "\n",
        "    for i in range(n - 1):\n",
        "        # Paso 3: Encuentra el pivote escalado\n",
        "        pivote = np.argmax(np.abs(matriz[indices_filas[i:], i]) / escala[indices_filas[i:]]) + i\n",
        "\n",
        "        if matriz[indices_filas[pivote], i] == 0:\n",
        "            raise ValueError(\"El sistema no tiene solución única.\")\n",
        "\n",
        "        # Intercambiamos indices_filas[i] con indices_filas[pivote] si es necesario\n",
        "        if i != pivote:\n",
        "            indices_filas[i], indices_filas[pivote] = indices_filas[pivote], indices_filas[i]\n",
        "\n",
        "        # Eliminación Gaussiana\n",
        "        for j in range(i + 1, n):\n",
        "            multiplicador = matriz[indices_filas[j], i] / matriz[indices_filas[i], i]\n",
        "            matriz[indices_filas[j], i:] = np.round(matriz[indices_filas[j], i:] - multiplicador * matriz[indices_filas[i], i:], 3)\n",
        "\n",
        "    # Verificamos si el sistema tiene solución única\n",
        "    if matriz[indices_filas[-1], -2] == 0:\n",
        "        raise ValueError(\"El sistema no tiene solución única.\")\n",
        "\n",
        "    # Sustitución hacia atrás\n",
        "    solucion = np.zeros(n)\n",
        "    for i in range(n - 1, -1, -1):\n",
        "        solucion[i] = (matriz[indices_filas[i], -1] - np.sum(matriz[indices_filas[i], i + 1:-1] * solucion[i + 1:])) / matriz[indices_filas[i], i]\n",
        "        solucion[i] = np.round(solucion[i], 3)\n",
        "\n",
        "    return solucion\n",
        "\n",
        "try:\n",
        "    # Resolvemos el sistema\n",
        "    resultado = eliminacion_gaussiana_pivoteo_parcial_escalado(matriz)\n",
        "    print(\"La solución del sistema es:\", resultado)\n",
        "except ValueError as error:\n",
        "    print(error)\n"
      ]
    }
  ]
}