{
  "nbformat": 4,
  "nbformat_minor": 0,
  "metadata": {
    "colab": {
      "provenance": []
    },
    "kernelspec": {
      "name": "python3",
      "display_name": "Python 3"
    },
    "language_info": {
      "name": "python"
    }
  },
  "cells": [
    {
      "cell_type": "code",
      "execution_count": 3,
      "metadata": {
        "colab": {
          "base_uri": "https://localhost:8080/"
        },
        "id": "aL8s402sNqtJ",
        "outputId": "eebdd0d9-a379-44a6-9483-b0c790d8b27b"
      },
      "outputs": [
        {
          "output_type": "stream",
          "name": "stdout",
          "text": [
            "La solución del sistema es: [-7.  3.  2.  2.]\n"
          ]
        }
      ],
      "source": [
        "# Código creado por Joshua Mijangos López, 03/01/25\n",
        "# Este código está hecho para que los sistemas de ecs. a los que se le aplicará el método se modifiquen desde aquí\n",
        "# Este código no acepta datos de ingreso desde consola\n",
        "\n",
        "import numpy as np\n",
        "\n",
        "def eliminacion_gaussiana_con_sustitucion_atras(A, b):\n",
        "    n = len(b)\n",
        "    # Crear la matriz aumentada\n",
        "    matriz_aumentada = np.hstack((A, b.reshape(-1, 1)))\n",
        "\n",
        "    # Eliminación gaussiana\n",
        "    for i in range(n - 1):\n",
        "        # Paso 2: Encontrar el pivote\n",
        "        fila_pivote = None\n",
        "        for p in range(i, n):\n",
        "            if matriz_aumentada[p, i] != 0:\n",
        "                fila_pivote = p\n",
        "                break\n",
        "\n",
        "        if fila_pivote is None:\n",
        "            return \"No existe una solución única.\"\n",
        "\n",
        "        # Paso 3: Intercambiar filas si es necesario\n",
        "        if fila_pivote != i:\n",
        "            matriz_aumentada[[i, fila_pivote]] = matriz_aumentada[[fila_pivote, i]]\n",
        "\n",
        "        # Paso 4-6: Eliminar las entradas debajo del pivote\n",
        "        for j in range(i + 1, n):\n",
        "            m = matriz_aumentada[j, i] / matriz_aumentada[i, i]\n",
        "            matriz_aumentada[j, i:] -= m * matriz_aumentada[i, i:]\n",
        "\n",
        "    # Paso 7: Comprobar si el sistema es inconsistente\n",
        "    if matriz_aumentada[-1, -2] == 0 and matriz_aumentada[-1, -1] != 0:\n",
        "        return \"No existe una solución única.\"\n",
        "\n",
        "    # Sustitución hacia atrás\n",
        "    x = np.zeros(n)\n",
        "    for i in range(n - 1, -1, -1):\n",
        "        x[i] = (matriz_aumentada[i, -1] - np.sum(matriz_aumentada[i, i + 1:n] * x[i + 1:])) / matriz_aumentada[i, i]\n",
        "\n",
        "    return x\n",
        "\n",
        "# Ejemplo 2\n",
        "A = np.array([\n",
        "    [1, -1, 2, -1],\n",
        "    [2, -2, 3, -3],\n",
        "    [1, 1, 1, 0],\n",
        "    [1, -1, 4, 3]\n",
        "], dtype=float)\n",
        "\n",
        "b = np.array([-8, -20, -2, 4], dtype=float)\n",
        "\n",
        "# Resolver el sistema\n",
        "solucion = eliminacion_gaussiana_con_sustitucion_atras(A, b)\n",
        "\n",
        "if isinstance(solucion, str):\n",
        "    print(solucion)\n",
        "else:\n",
        "    print(\"La solución del sistema es:\", solucion)\n"
      ]
    }
  ]
}