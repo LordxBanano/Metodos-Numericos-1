{
  "nbformat": 4,
  "nbformat_minor": 0,
  "metadata": {
    "colab": {
      "provenance": []
    },
    "kernelspec": {
      "name": "python3",
      "display_name": "Python 3"
    },
    "language_info": {
      "name": "python"
    }
  },
  "cells": [
    {
      "cell_type": "code",
      "execution_count": 5,
      "metadata": {
        "colab": {
          "base_uri": "https://localhost:8080/",
          "height": 72
        },
        "id": "xZGtjLvXX_xw",
        "outputId": "f5a4af54-177f-4cf4-f803-e4f33dd00500"
      },
      "outputs": [
        {
          "output_type": "stream",
          "name": "stdout",
          "text": [
            "Sea la Función:\n",
            "\n"
          ]
        },
        {
          "output_type": "display_data",
          "data": {
            "text/plain": [
              "sqrt(x + 1)"
            ],
            "text/latex": "$\\displaystyle \\sqrt{x + 1}$"
          },
          "metadata": {}
        }
      ],
      "source": [
        "import sympy as spy\n",
        "from sympy import init_printing, latex #Para imprimir funciones en formato LaTex\n",
        "from IPython.display import display, Math\n",
        "\n",
        "x = spy.Symbol('x')\n",
        "f= spy.sqrt(x+1)\n",
        "\n",
        "print(\"Sea la Función:\\n\")\n",
        "display(f)"
      ]
    },
    {
      "cell_type": "code",
      "source": [
        "valor_evaluado_0 = f.subs(x, 0) # Evaluar la derivada en el punto x=0\n",
        "\n",
        "valor_numerico_0 = valor_evaluado_0.evalf() # Para hallar el valor numérico (en lugar de una expresión simbólica)\n",
        "print(f\"\\nEl valor de la función evaluada en x = 0 es:\\n\")\n",
        "display(Math(f'f(0) = {latex(valor_numerico_0)}'))\n",
        "# Math () Se usa para incluir expresiones de LaTeX dentro de display()\n",
        "# latex(valor_evaluado): Convierte el valor evaluado en una cadena en formato LaTeX"
      ],
      "metadata": {
        "colab": {
          "base_uri": "https://localhost:8080/",
          "height": 91
        },
        "id": "zZ-jJbsectJS",
        "outputId": "3ccd8d93-98d2-4752-e374-d8d68a8afeda"
      },
      "execution_count": 6,
      "outputs": [
        {
          "output_type": "stream",
          "name": "stdout",
          "text": [
            "\n",
            "El valor de la función evaluada en x = 0 es:\n",
            "\n"
          ]
        },
        {
          "output_type": "display_data",
          "data": {
            "text/plain": [
              "<IPython.core.display.Math object>"
            ],
            "text/latex": "$\\displaystyle f(0) = 1.0$"
          },
          "metadata": {}
        }
      ]
    },
    {
      "cell_type": "code",
      "source": [
        "f_uno= spy.diff(f, x) #Calcular la primera derivada\n",
        "\n",
        "print(\"Su primera derivada es:\\n\")\n",
        "display(f_uno)"
      ],
      "metadata": {
        "colab": {
          "base_uri": "https://localhost:8080/",
          "height": 90
        },
        "id": "XqEE6JrXZWKb",
        "outputId": "165c661f-0e64-4ec6-e1b8-24d1d6bc77d6"
      },
      "execution_count": 7,
      "outputs": [
        {
          "output_type": "stream",
          "name": "stdout",
          "text": [
            "Su primera derivada es:\n",
            "\n"
          ]
        },
        {
          "output_type": "display_data",
          "data": {
            "text/plain": [
              "1/(2*sqrt(x + 1))"
            ],
            "text/latex": "$\\displaystyle \\frac{1}{2 \\sqrt{x + 1}}$"
          },
          "metadata": {}
        }
      ]
    },
    {
      "cell_type": "code",
      "source": [
        "# Calcular la segunda derivada\n",
        "f_dos= spy.diff(f_uno, x)\n",
        "\n",
        "print(\"Su segunda derivada es:\\n\")\n",
        "display(f_dos)"
      ],
      "metadata": {
        "colab": {
          "base_uri": "https://localhost:8080/",
          "height": 95
        },
        "id": "S6FdxdCVZ9vh",
        "outputId": "f849dfa7-c69b-425c-d713-c294cd0ed203"
      },
      "execution_count": 9,
      "outputs": [
        {
          "output_type": "stream",
          "name": "stdout",
          "text": [
            "Su segunda derivada es:\n",
            "\n"
          ]
        },
        {
          "output_type": "display_data",
          "data": {
            "text/plain": [
              "-1/(4*(x + 1)**(3/2))"
            ],
            "text/latex": "$\\displaystyle - \\frac{1}{4 \\left(x + 1\\right)^{\\frac{3}{2}}}$"
          },
          "metadata": {}
        }
      ]
    },
    {
      "cell_type": "code",
      "source": [
        "#Calcular la tercera derivada\n",
        "f_tres= spy.diff(f_dos, x)\n",
        "\n",
        "print(\"Su tercera derivada es:\\n\")\n",
        "display(f_tres)"
      ],
      "metadata": {
        "colab": {
          "base_uri": "https://localhost:8080/",
          "height": 95
        },
        "id": "ioAfgFmPaBT1",
        "outputId": "be62cef5-4062-4524-99c5-80dc5e3338ca"
      },
      "execution_count": 11,
      "outputs": [
        {
          "output_type": "stream",
          "name": "stdout",
          "text": [
            "Su tercera derivada es:\n",
            "\n"
          ]
        },
        {
          "output_type": "display_data",
          "data": {
            "text/plain": [
              "3/(8*(x + 1)**(5/2))"
            ],
            "text/latex": "$\\displaystyle \\frac{3}{8 \\left(x + 1\\right)^{\\frac{5}{2}}}$"
          },
          "metadata": {}
        }
      ]
    },
    {
      "cell_type": "code",
      "source": [
        "#Calcular la cuarta derivada\n",
        "f_cuatro= spy.diff(f_tres, x)\n",
        "\n",
        "print(\"Su cuarta derivada es:\\n\")\n",
        "display(f_cuatro)"
      ],
      "metadata": {
        "colab": {
          "base_uri": "https://localhost:8080/",
          "height": 95
        },
        "id": "6_S8LOe2aFlI",
        "outputId": "31b0fd06-c55a-4c0d-8c26-4a612f162bb3"
      },
      "execution_count": 12,
      "outputs": [
        {
          "output_type": "stream",
          "name": "stdout",
          "text": [
            "Su cuarta derivada es:\n",
            "\n"
          ]
        },
        {
          "output_type": "display_data",
          "data": {
            "text/plain": [
              "-15/(16*(x + 1)**(7/2))"
            ],
            "text/latex": "$\\displaystyle - \\frac{15}{16 \\left(x + 1\\right)^{\\frac{7}{2}}}$"
          },
          "metadata": {}
        }
      ]
    },
    {
      "cell_type": "code",
      "source": [
        "print(\"\\nPolinomio de Taylor de grado 1:\\n\")\n",
        "taylor_1 = f.series(x, 0, 2).removeO()  # Grado 1\n",
        "display(taylor_1)"
      ],
      "metadata": {
        "colab": {
          "base_uri": "https://localhost:8080/",
          "height": 99
        },
        "id": "zhEvmNXr36rF",
        "outputId": "24e83ac3-0c2e-45f0-dfe9-581ea331dfd8"
      },
      "execution_count": 13,
      "outputs": [
        {
          "output_type": "stream",
          "name": "stdout",
          "text": [
            "\n",
            "Polinomio de Taylor de grado 1:\n",
            "\n"
          ]
        },
        {
          "output_type": "display_data",
          "data": {
            "text/plain": [
              "x/2 + 1"
            ],
            "text/latex": "$\\displaystyle \\frac{x}{2} + 1$"
          },
          "metadata": {}
        }
      ]
    },
    {
      "cell_type": "code",
      "source": [
        "print(\"\\nPolinomio de Taylor de grado 2:\\n\")\n",
        "taylor_2 = f.series(x, 0, 3).removeO()  # Grado 2\n",
        "display(taylor_2)"
      ],
      "metadata": {
        "colab": {
          "base_uri": "https://localhost:8080/",
          "height": 106
        },
        "id": "GhGaFQtx36iX",
        "outputId": "b85c8252-b0be-456b-ecb7-e562f5fdc742"
      },
      "execution_count": null,
      "outputs": [
        {
          "output_type": "stream",
          "name": "stdout",
          "text": [
            "\n",
            "Polinomio de Taylor de grado 2:\n",
            "\n"
          ]
        },
        {
          "output_type": "display_data",
          "data": {
            "text/plain": [
              "-x**2/8 + x/2 + 1"
            ],
            "text/latex": "$\\displaystyle - \\frac{x^{2}}{8} + \\frac{x}{2} + 1$"
          },
          "metadata": {}
        }
      ]
    },
    {
      "cell_type": "code",
      "source": [
        "print(\"\\nPolinomio de Taylor de grado 3:\\n\")\n",
        "taylor_3 = f.series(x, 0, 4).removeO()  # Grado 3\n",
        "display(taylor_3)"
      ],
      "metadata": {
        "colab": {
          "base_uri": "https://localhost:8080/",
          "height": 106
        },
        "id": "82EOvKqtxTtx",
        "outputId": "34dadf32-85bc-45b1-94b4-e53c25a10fd6"
      },
      "execution_count": null,
      "outputs": [
        {
          "output_type": "stream",
          "name": "stdout",
          "text": [
            "\n",
            "Polinomio de Taylor de grado 3:\n",
            "\n"
          ]
        },
        {
          "output_type": "display_data",
          "data": {
            "text/plain": [
              "x**3/16 - x**2/8 + x/2 + 1"
            ],
            "text/latex": "$\\displaystyle \\frac{x^{3}}{16} - \\frac{x^{2}}{8} + \\frac{x}{2} + 1$"
          },
          "metadata": {}
        }
      ]
    },
    {
      "cell_type": "code",
      "source": [
        "print(\"\\nPolinomio de Taylor de grado 4:\\n\")\n",
        "taylor_4 = f.series(x, 0, 5).removeO()  # Grado 4\n",
        "display(taylor_4)"
      ],
      "metadata": {
        "colab": {
          "base_uri": "https://localhost:8080/",
          "height": 106
        },
        "id": "ffMyY7eiRxHE",
        "outputId": "f68fc16a-97de-4646-9b00-ae1441e88a71"
      },
      "execution_count": 14,
      "outputs": [
        {
          "output_type": "stream",
          "name": "stdout",
          "text": [
            "\n",
            "Polinomio de Taylor de grado 4:\n",
            "\n"
          ]
        },
        {
          "output_type": "display_data",
          "data": {
            "text/plain": [
              "-5*x**4/128 + x**3/16 - x**2/8 + x/2 + 1"
            ],
            "text/latex": "$\\displaystyle - \\frac{5 x^{4}}{128} + \\frac{x^{3}}{16} - \\frac{x^{2}}{8} + \\frac{x}{2} + 1$"
          },
          "metadata": {}
        }
      ]
    },
    {
      "cell_type": "code",
      "source": [
        "import numpy as np\n",
        "import matplotlib.pyplot as plt\n",
        "\n",
        "# Función para convertir los polinomios simbólicos en funciones numéricas\n",
        "def polinomio_taylor(funcion, grado, punto_centro=0):\n",
        "    return spy.series(funcion, x, punto_centro, grado + 1).removeO()\n",
        "\n",
        "# Crear el gráfico\n",
        "x_vals = np.linspace(-1, 3, 400)  # Valores de x para el gráfico (evitando raíz de número negativo)\n",
        "f_lambda = spy.lambdify(x, f, 'numpy')  # Convertir la función original en una función numérica\n",
        "\n",
        "# Graficar la función original\n",
        "plt.plot(x_vals, f_lambda(x_vals), label='$f(x) = \\sqrt{x + 1}$', color='black', linewidth=2)\n",
        "\n",
        "# Graficar los polinomios de Taylor de diferentes órdenes\n",
        "for n in range(1, 5):\n",
        "    p_taylor = polinomio_taylor(f, n)  # Obtener el polinomio de Taylor\n",
        "    p_lambda = spy.lambdify(x, p_taylor, 'numpy')  # Convertir el polinomio en función numérica\n",
        "    plt.plot(x_vals, p_lambda(x_vals), label=f'Polinomio de Taylor grado {n}')\n",
        "\n",
        "plt.title('Polinomios de Taylor de $f(x) = \\sqrt{x + 1}$')\n",
        "plt.xlabel('x')\n",
        "plt.ylabel('f(x)')\n",
        "plt.axhline(0, color='black',linewidth=0.5)\n",
        "plt.axvline(0, color='black',linewidth=0.5)\n",
        "plt.legend()\n",
        "plt.grid(True)\n",
        "plt.show()\n"
      ],
      "metadata": {
        "colab": {
          "base_uri": "https://localhost:8080/",
          "height": 478
        },
        "id": "MDXLaZCgQ7R-",
        "outputId": "d19be5b8-20d3-4817-982d-e692cb337a99"
      },
      "execution_count": 21,
      "outputs": [
        {
          "output_type": "display_data",
          "data": {
            "text/plain": [
              "<Figure size 640x480 with 1 Axes>"
            ],
            "image/png": "[encoded data removed]"
          },
          "metadata": {}
        }
      ]
    }
  ]
}