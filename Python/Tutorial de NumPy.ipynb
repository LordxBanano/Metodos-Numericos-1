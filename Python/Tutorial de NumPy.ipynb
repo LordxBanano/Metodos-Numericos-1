{
  "nbformat": 4,
  "nbformat_minor": 0,
  "metadata": {
    "colab": {
      "provenance": []
    },
    "kernelspec": {
      "name": "python3",
      "display_name": "Python 3"
    },
    "language_info": {
      "name": "python"
    }
  },
  "cells": [
    {
      "cell_type": "markdown",
      "source": [
        "**Tutorial de NumPy :D**\n",
        "\n",
        "**Creado por Joshua Mijangos López, 05/11/24**\n",
        "\n",
        "1. **Introducción a NumPy.**\n",
        "\n",
        "NumPy es una biblioteca esencial para el cálculo científico en Python. Su nombre proviene de \"*Numerical Python*\". NumPy permite realizar cálculos numéricos y manipulación de datos de manera eficiente mediante arreglos y matrices, los cuales son más rápidos y fáciles de manejar que las listas estándar de Python.\n",
        "\n",
        "\n",
        "*   Ventajas: En comparación con las listas, los arreglos de NumPy ocupan menos memoria y permiten realizar operaciones matemáticas complejas de manera directa, gracias a sus funciones optimizadas\n",
        "*   Objetivo: En este tutorial, aprenderemos a trabajar con arreglos y funciones de NumPy, útiles para análisis de datos, interpolación y graficación.\n",
        "\n",
        "1.1. *Instalación.*\n",
        "\n",
        "Esta es la forma más común de instalar numpy, ya que pip viene preinstalado con Python.\n",
        "\n",
        "Abre una terminal o línea de comandos y ejecuta el siguiente comando:\n",
        "\n"
      ],
      "metadata": {
        "id": "dOU-N8TdUNKb"
      }
    },
    {
      "cell_type": "code",
      "source": [
        "pip install numpy"
      ],
      "metadata": {
        "id": "8tnog6wrVb82"
      },
      "execution_count": null,
      "outputs": []
    },
    {
      "cell_type": "markdown",
      "source": [
        "Si por alguna razón necesitas instalar numpy desde su código fuente, puedes seguir estos pasos:\n",
        "\n",
        "1) Clona el repositorio de numpy desde GitHub:\n",
        "\n"
      ],
      "metadata": {
        "id": "Gvb3lGVxVfQa"
      }
    },
    {
      "cell_type": "code",
      "source": [
        "git clone https://github.com/numpy/numpy.git"
      ],
      "metadata": {
        "id": "UUs1oydgV8ym"
      },
      "execution_count": null,
      "outputs": []
    },
    {
      "cell_type": "markdown",
      "source": [
        "2) Ve al directorio de numpy:"
      ],
      "metadata": {
        "id": "54mVFxaRWGWD"
      }
    },
    {
      "cell_type": "code",
      "source": [
        "cd numpy"
      ],
      "metadata": {
        "id": "RYU0EY3rWcrB"
      },
      "execution_count": null,
      "outputs": []
    },
    {
      "cell_type": "markdown",
      "source": [
        "3) Compila e instala numpy:"
      ],
      "metadata": {
        "id": "kCGFcspZWP2c"
      }
    },
    {
      "cell_type": "code",
      "source": [
        "python setup.py install"
      ],
      "metadata": {
        "id": "u7WpsZ7PWUtb"
      },
      "execution_count": null,
      "outputs": []
    },
    {
      "cell_type": "markdown",
      "source": [
        "Una vez instalado, puedes verificar la instalación abriendo un intérprete de Python y ejecutando:"
      ],
      "metadata": {
        "id": "a5ykOgvFWkOy"
      }
    },
    {
      "cell_type": "code",
      "source": [
        "import numpy\n",
        "print (numpy.__version__)"
      ],
      "metadata": {
        "id": "47bokaF9WlLK"
      },
      "execution_count": null,
      "outputs": []
    },
    {
      "cell_type": "markdown",
      "source": [
        "2. **Arreglos de NumPy.**\n",
        "\n",
        "En NumPy, los arreglos (arrays) son estructuras de datos de múltiples dimensiones (1D, 2D, etc.) que contienen elementos de un tipo específico (como int, float). Son similares a las listas en Python, pero están optimizados para realizar operaciones matemáticas y de datos con mayor velocidad y menor consumo de memoria.\n",
        "\n",
        "2.1 *Creación de Arreglos*:\n",
        "\n",
        "* **np.array()**: Permite crear un arreglo a partir de una lista o lista de listas. Es el método más común para crear arreglos con datos específicos.\n",
        "Arreglos de Ceros, Unos y Vacias:\n",
        "\n",
        "* **np.zeros(dimensiones) y np.ones(dimensiones)**: Generan arreglos llenos de ceros o unos, respectivamente, y son útiles para inicializar datos.\n",
        "\n",
        "* **np.empty(dimensiones)**: Genera un arreglo vacío (sin inicializar los valores). Es más rápido pero debe usarse con cuidado, ya que contiene valores aleatorios hasta que se les asignen datos específicos.\n",
        "\n",
        "2.2 *Arreglos de Números Enteros y Flotantes*:\n",
        "\n",
        "* **dtype**: Al crear un arreglo, podemos especificar su tipo de datos con el parámetro dtype. Esto ayuda a optimizar la memoria cuando solo se necesitan ciertos tipos, como enteros de 8 bits (int8) o flotantes de 32 bits (float32).\n",
        "\n",
        "2.3 *Ejemplos:*\n",
        "\n",
        "\n"
      ],
      "metadata": {
        "id": "2VG4HOXVXBkX"
      }
    },
    {
      "cell_type": "code",
      "source": [
        "import numpy as np\n",
        "\n",
        "# Crear un arreglo unidimensional\n",
        "a = np.array([1, 2, 3, 4])\n",
        "print(\"Arreglo unidimensional:\", a)"
      ],
      "metadata": {
        "colab": {
          "base_uri": "https://localhost:8080/"
        },
        "id": "qA81G7J7zO-D",
        "outputId": "c045fed8-7f57-4181-aced-acee1c0a693a"
      },
      "execution_count": 7,
      "outputs": [
        {
          "output_type": "stream",
          "name": "stdout",
          "text": [
            "Arreglo unidimensional: [1 2 3 4]\n"
          ]
        }
      ]
    },
    {
      "cell_type": "code",
      "source": [
        "# Crear un arreglo bidimensional\n",
        "b = np.array([[1, 2, 3], [4, 5, 6]])\n",
        "print(\"Arreglo bidimensional:\\n\", b)"
      ],
      "metadata": {
        "colab": {
          "base_uri": "https://localhost:8080/"
        },
        "id": "KJIH8Uw0zRIT",
        "outputId": "03f82edc-b1e5-40b1-9cd5-6a74c3b1f596"
      },
      "execution_count": 8,
      "outputs": [
        {
          "output_type": "stream",
          "name": "stdout",
          "text": [
            "Arreglo bidimensional:\n",
            " [[1 2 3]\n",
            " [4 5 6]]\n"
          ]
        }
      ]
    },
    {
      "cell_type": "code",
      "source": [
        "# Crear un arreglo de unos con dimensiones (3, 3)\n",
        "c = np.ones((3, 3))\n",
        "print(\"Arreglo de unos:\\n\", c)"
      ],
      "metadata": {
        "colab": {
          "base_uri": "https://localhost:8080/"
        },
        "id": "VF8HW3IFzTe-",
        "outputId": "c69d3663-5cff-48a6-8a1b-1fe88c802173"
      },
      "execution_count": 9,
      "outputs": [
        {
          "output_type": "stream",
          "name": "stdout",
          "text": [
            "Arreglo de unos:\n",
            " [[1. 1. 1.]\n",
            " [1. 1. 1.]\n",
            " [1. 1. 1.]]\n"
          ]
        }
      ]
    },
    {
      "cell_type": "code",
      "source": [
        "# Crear un arreglo de números enteros con dtype específico\n",
        "d = np.array([1, 2, 3], dtype=np.int8)\n",
        "print(\"Arreglo con tipo de datos int8:\", d)"
      ],
      "metadata": {
        "colab": {
          "base_uri": "https://localhost:8080/"
        },
        "id": "ADi1rYtCzV3l",
        "outputId": "86693ceb-8b62-4fb4-c48c-21b820932cd8"
      },
      "execution_count": 10,
      "outputs": [
        {
          "output_type": "stream",
          "name": "stdout",
          "text": [
            "Arreglo con tipo de datos int8: [1 2 3]\n"
          ]
        }
      ]
    },
    {
      "cell_type": "markdown",
      "source": [
        "3. **Funciones Básicas de NumPy**\n",
        "\n",
        "NumPy provee funciones matemáticas básicas que operan en los arreglos de forma vectorizada, es decir, se aplican de manera eficiente sobre cada elemento del arreglo sin la necesidad de usar bucles explícitos en Python.\n",
        "\n",
        "3.1 *Atributos del Arreglo:*\n",
        "\n",
        "Los atributos en NumPy permiten obtener información importante sobre los arreglos, como su tamaño, forma y tipo de datos, lo que ayuda a saber cómo están organizados y cuál es su capacidad de almacenamiento y cálculo. A continuación, se explican algunos de los atributos básicos de un arreglo:\n",
        "\n",
        "\n",
        "*   **ndim**: Representa el número de dimensiones (o ejes) del arreglo. Los arreglos unidimensionales (ndim=1) son similares a listas, mientras que los arreglos bidimensionales (ndim=2) se asemejan a matrices, y los arreglos de mayor dimensión (ndim>2) se usan en procesamiento de datos más complejo, como en aprendizaje profundo.\n",
        "\n",
        "*  **shape**: Indica la forma del arreglo, es decir, el tamaño a lo largo de cada dimensión. Si tienes un arreglo bidimensional, shape será una tupla que representa el número de filas y columnas del arreglo.\n",
        "\n",
        "*   **size**: Es el número total de elementos en el arreglo. Este valor es el producto de las dimensiones especificadas en shape. Por ejemplo, un arreglo de shape (3, 4) tiene 3 * 4 = 12 elementos en total.\n",
        "\n",
        "*   **dtype**: Describe el tipo de datos de los elementos en el arreglo (por ejemplo, int32, float64). Esto es importante, ya que NumPy usa tipos de datos fijos para optimizar el rendimiento y la memoria. Los datos de un mismo arreglo deben tener el mismo tipo, lo que permite a NumPy realizar operaciones rápidamente.\n",
        "\n",
        "\n",
        "\n",
        "3.2 *Operaciones Matemáticas:*\n",
        "\n",
        "Las operaciones matemáticas en NumPy están diseñadas para realizarse \"elemento a elemento\", es decir, cada operación se aplica a cada elemento del arreglo de manera individual. A continuación, se describen las operaciones matemáticas básicas y algunas funciones importantes:\n",
        "\n",
        "* **Operaciones Aritméticas**: En NumPy, operaciones como suma (+), resta (-), multiplicación (*) y división (/) pueden aplicarse directamente a los arreglos. Cuando se realiza una operación entre dos arreglos de la misma forma, NumPy aplicará la operación elemento a elemento. Este tipo de operaciones se conoce como \"broadcasting\" y permite realizar cálculos eficientes sin necesidad de bucles explícitos.\n",
        "\n",
        "* **Funciones Matemáticas Elementales**: NumPy proporciona una serie de funciones matemáticas que pueden aplicarse a cada elemento de un arreglo. Estas funciones incluyen:\n",
        "\n",
        "  * Raíz Cuadrada (**np.sqrt**): Calcula la raíz cuadrada de cada elemento en el arreglo.\n",
        "  * Exponencial (**np.exp**): Calcula el valor exponencial 𝑒ˣ\n",
        "  para cada elemento.\n",
        "  * Seno, Coseno, Tangente (**np.sin, np.cos, np.tan**): Calcula el valor de las funciones trigonométricas en radianes para cada elemento.\n",
        "  * Logaritmo Natural (**np.log**): Calcula el logaritmo natural de cada elemento. Si un elemento es cero o negativo, NumPy devuelve un NaN o un valor infinito, ya que el logaritmo natural no está definido en esos casos.\n",
        "\n",
        "  3.3 *Ejemplos:*\n",
        "\n",
        "  Al combinar atributos y operaciones matemáticas, puedes analizar rápidamente las propiedades de los datos y realizar cálculos elementales. Veamos un ejemplo típico en el que se aplican tanto los atributos como las funciones básicas en un arreglo bidimensional."
      ],
      "metadata": {
        "id": "isfQDqNCtQas"
      }
    },
    {
      "cell_type": "code",
      "source": [
        "import numpy as np\n",
        "\n",
        "# Crear un arreglo bidimensional\n",
        "a = np.array([[1, 2, 3], [4, 5, 6]])\n",
        "\n",
        "# Atributos\n",
        "print(\"Número de dimensiones (ndim):\", a.ndim)  # Salida: 2 (bidimensional)\n",
        "print(\"Forma del arreglo (shape):\", a.shape)   # Salida: (2, 3)\n",
        "print(\"Tamaño total (size):\", a.size)          # Salida: 6\n",
        "print(\"Tipo de dato de los elementos (dtype):\", a.dtype)  # Salida: int32 o int64, según el sistema"
      ],
      "metadata": {
        "colab": {
          "base_uri": "https://localhost:8080/"
        },
        "id": "npKVFlpswmxB",
        "outputId": "46ae3c34-872b-4422-dc28-fb3360ef1e78"
      },
      "execution_count": 1,
      "outputs": [
        {
          "output_type": "stream",
          "name": "stdout",
          "text": [
            "Número de dimensiones (ndim): 2\n",
            "Forma del arreglo (shape): (2, 3)\n",
            "Tamaño total (size): 6\n",
            "Tipo de dato de los elementos (dtype): int64\n"
          ]
        }
      ]
    },
    {
      "cell_type": "code",
      "source": [
        "# Operaciones matemáticas\n",
        "b = np.array([1, 2, 3])\n",
        "\n",
        "# Suma de arreglos\n",
        "print(\"\\nSuma:\", b + b)      # Salida esperada: [2 4 6]\n",
        "\n",
        "# Raíz cuadrada de cada elemento\n",
        "print(\"Raíz cuadrada:\", np.sqrt(b))  # Salida esperada: [1. 1.41421356 1.73205081]\n",
        "\n",
        "# Logaritmo de cada elemento\n",
        "print(\"Logaritmo:\", np.log(b))  # Salida esperada: [0. 0.69314718 1.09861229]\n"
      ],
      "metadata": {
        "colab": {
          "base_uri": "https://localhost:8080/"
        },
        "id": "hFAkZP_Sww2c",
        "outputId": "9ae95b49-95e7-4019-df18-a024d0dac501"
      },
      "execution_count": 2,
      "outputs": [
        {
          "output_type": "stream",
          "name": "stdout",
          "text": [
            "\n",
            "Suma: [2 4 6]\n",
            "Raíz cuadrada: [1.         1.41421356 1.73205081]\n",
            "Logaritmo: [0.         0.69314718 1.09861229]\n"
          ]
        }
      ]
    },
    {
      "cell_type": "markdown",
      "source": [
        "4. **Indexación y Slicing en Arreglos.**\n",
        "\n",
        "NumPy permite acceder a datos de manera rápida mediante índices y rangos de índices. Esta capacidad es esencial para manipular datos y trabajar con sub-arreglos.\n",
        "\n",
        "4.1 *Indexación:*\n",
        "\n",
        "Similar a las listas de Python, podemos acceder a elementos individuales de un arreglo utilizando índices. En arreglos unidimensionales, un solo índice es suficiente (a[i]), mientras que en arreglos multidimensionales, especificamos un índice para cada eje (a[i, j] para un arreglo 2D).\n",
        "\n",
        "4.2 *Slicing:*\n",
        "\n",
        "Con el slicing o corte, seleccionamos un rango de elementos de un arreglo utilizando la sintaxis inicio:fin. NumPy permite seleccionar subconjuntos de datos en un arreglo, aplicando slicing en varias dimensiones. La sintaxis básica es a[inicio:fin], y también puede incluir un paso (a[inicio:fin:paso]).\n",
        "\n",
        "\n",
        "4.3 *Indexación Booleana:*\n",
        "\n",
        "Permite seleccionar elementos del arreglo que cumplen una condición específica. Esto se logra utilizando comparaciones lógicas, como a > 2, que devuelve un arreglo de valores booleanos, indicando si cada elemento cumple la condición. Luego, aplicando este resultado al arreglo original (a[a > 2]), obtenemos solo los elementos que cumplen la condición.\n",
        "\n",
        "4.4 *Ejemplos*:\n",
        "\n",
        "\n"
      ],
      "metadata": {
        "id": "YwiefXKFxCqY"
      }
    },
    {
      "cell_type": "code",
      "source": [
        "import numpy as np\n",
        "\n",
        "# Crear un arreglo bidimensional\n",
        "a = np.array([[1, 2, 3], [4, 5, 6], [7, 8, 9]])\n",
        "\n",
        "# Indexación: acceso a un elemento específico\n",
        "print(\"Elemento en la posición (1, 2):\", a[1, 2])  # Salida esperada: 6"
      ],
      "metadata": {
        "colab": {
          "base_uri": "https://localhost:8080/"
        },
        "id": "pY6fH8tdx5Sj",
        "outputId": "09ede6c0-931e-4174-f5c4-b6cf354114f5"
      },
      "execution_count": 3,
      "outputs": [
        {
          "output_type": "stream",
          "name": "stdout",
          "text": [
            "Elemento en la posición (1, 2): 6\n"
          ]
        }
      ]
    },
    {
      "cell_type": "code",
      "source": [
        "# Slicing: seleccionar un subconjunto de filas y columnas\n",
        "print(\"Segunda fila completa:\", a[1, :])  # Salida esperada: [4 5 6]\n",
        "print(\"Elementos de la primera y segunda fila, segunda y tercera columna:\\n\", a[:2, 1:])\n",
        "# Salida esperada:\n",
        "# [[2 3]\n",
        "#  [5 6]]"
      ],
      "metadata": {
        "colab": {
          "base_uri": "https://localhost:8080/"
        },
        "id": "Kkl3dP6Fx8M_",
        "outputId": "f8aaf75a-4545-4796-9ab5-f6c7bba71492"
      },
      "execution_count": 5,
      "outputs": [
        {
          "output_type": "stream",
          "name": "stdout",
          "text": [
            "Segunda fila completa: [4 5 6]\n",
            "Elementos de la primera y segunda fila, segunda y tercera columna:\n",
            " [[2 3]\n",
            " [5 6]]\n"
          ]
        }
      ]
    },
    {
      "cell_type": "code",
      "source": [
        "# Indexación Booleana: seleccionar elementos mayores que 5\n",
        "print(\"Elementos mayores que 5:\", a[a > 5])  # Salida esperada: [6 7 8 9]"
      ],
      "metadata": {
        "colab": {
          "base_uri": "https://localhost:8080/"
        },
        "id": "7sv37yB6x9-B",
        "outputId": "ce9ced9c-5090-46e7-be43-6309711846dd"
      },
      "execution_count": 6,
      "outputs": [
        {
          "output_type": "stream",
          "name": "stdout",
          "text": [
            "Elementos mayores que 5: [6 7 8 9]\n"
          ]
        }
      ]
    },
    {
      "cell_type": "markdown",
      "source": [
        "5. **Generación de Datos.**\n",
        "\n",
        "NumPy ofrece varias funciones para generar arreglos con patrones y distribuciones predeterminadas:\n",
        "\n",
        "5.1 *Rangos y Secuencias:*\n",
        "\n",
        "+ **np.arange**(inicio, fin, paso): Genera un arreglo de números en un rango específico con un paso determinado. Es útil para crear secuencias uniformes de valores.\n",
        "* **np.linspace**(inicio, fin, num): Genera un arreglo con num valores espaciados uniformemente entre inicio y fin, ideal para puntos en gráficos o interpolación.\n",
        "\n",
        "5.2 *Arreglos de Ceros y Unos:*\n",
        "* **np.zeros**(dimensiones): Genera un arreglo lleno de ceros en las dimensiones especificadas.\n",
        "* **np.ones**(dimensiones): Genera un arreglo lleno de unos en las dimensiones especificadas.\n",
        "\n",
        "5.3 *Números Aleatorios:*\n",
        "\n",
        "* **np.random.rand**(dimensiones): Genera un arreglo de números aleatorios entre 0 y 1 con dimensiones especificadas.\n",
        "* **np.random.randint**(bajo, alto, tamaño): Genera un arreglo de números enteros aleatorios en un rango específico [bajo, alto).\n",
        "\n",
        "5.4 *Ejemplos:*"
      ],
      "metadata": {
        "id": "bBfqCHwhyF3i"
      }
    },
    {
      "cell_type": "code",
      "source": [
        "import numpy as np\n",
        "\n",
        "# Crear una secuencia de números del 0 al 9\n",
        "secuencia = np.arange(0, 10, 1)\n",
        "print(\"Secuencia con np.arange:\", secuencia)  # Salida esperada: [0 1 2 3 4 5 6 7 8 9]"
      ],
      "metadata": {
        "colab": {
          "base_uri": "https://localhost:8080/"
        },
        "id": "yG2W9tJK0IgV",
        "outputId": "edb598df-de8d-485c-e8ad-fc24ffb6a9e9"
      },
      "execution_count": 20,
      "outputs": [
        {
          "output_type": "stream",
          "name": "stdout",
          "text": [
            "Secuencia con np.arange: [0 1 2 3 4 5 6 7 8 9]\n"
          ]
        }
      ]
    },
    {
      "cell_type": "code",
      "source": [
        "# Crear un arreglo de 5 valores espaciados uniformemente entre 0 y 1\n",
        "espaciado = np.linspace(0, 1, 5)\n",
        "print(\"Espaciado uniforme con np.linspace:\", espaciado)  # Salida esperada: [0.   0.25 0.5  0.75 1.  ]"
      ],
      "metadata": {
        "colab": {
          "base_uri": "https://localhost:8080/"
        },
        "id": "mzRPgBNo0KDH",
        "outputId": "c3f14a00-8d6c-4478-b222-cecc6a56eed0"
      },
      "execution_count": 12,
      "outputs": [
        {
          "output_type": "stream",
          "name": "stdout",
          "text": [
            "Espaciado uniforme con np.linspace: [0.   0.25 0.5  0.75 1.  ]\n"
          ]
        }
      ]
    },
    {
      "cell_type": "code",
      "source": [
        "# Crear un arreglo de ceros con 2 filas y 3 columnas\n",
        "ceros = np.zeros((2, 3))\n",
        "print(\"Arreglo de ceros:\\n\", ceros)"
      ],
      "metadata": {
        "colab": {
          "base_uri": "https://localhost:8080/"
        },
        "id": "_MwxpaYX0MU2",
        "outputId": "8670ab53-9edb-4188-c271-5e8f29ca423d"
      },
      "execution_count": 13,
      "outputs": [
        {
          "output_type": "stream",
          "name": "stdout",
          "text": [
            "Arreglo de ceros:\n",
            " [[0. 0. 0.]\n",
            " [0. 0. 0.]]\n"
          ]
        }
      ]
    },
    {
      "cell_type": "code",
      "source": [
        "# Crear un arreglo de números enteros aleatorios entre 1 y 10 de tamaño 3x3\n",
        "aleatorios = np.random.randint(1, 10, (3, 3))\n",
        "print(\"Arreglo de números aleatorios:\\n\", aleatorios)"
      ],
      "metadata": {
        "colab": {
          "base_uri": "https://localhost:8080/"
        },
        "id": "DQlCZ2hA0N06",
        "outputId": "bea1357b-996f-4f71-8999-93b881c97117"
      },
      "execution_count": 14,
      "outputs": [
        {
          "output_type": "stream",
          "name": "stdout",
          "text": [
            "Arreglo de números aleatorios:\n",
            " [[1 4 4]\n",
            " [4 3 8]\n",
            " [4 5 8]]\n"
          ]
        }
      ]
    },
    {
      "cell_type": "markdown",
      "source": [
        "6. **Operaciones en Arreglos (Reducción).**\n",
        "Las operaciones de reducción aplican una función que \"reduce\" un conjunto de valores a un solo resultado. Estas operaciones pueden calcularse a lo largo de un eje específico de un arreglo (por filas o columnas) o sobre el arreglo completo.\n",
        "\n",
        "6.1 *Suma y Promedio:*\n",
        "\n",
        "* **np.sum()**: Suma todos los elementos del arreglo. Con el parámetro axis, suma los elementos a lo largo de un eje específico.\n",
        "* **np.mean()**: Calcula el promedio (media) de todos los elementos. Similar a sum, también admite axis para calcular el promedio por fila o columna.\n",
        "\n",
        "6.2 *Mínimo y Máximo:*\n",
        "\n",
        "* **np.min() y np.max()**: Encuentran el valor mínimo y máximo, respectivamente, de todos los elementos en el arreglo o a lo largo de un eje.\n",
        "Producto:\n",
        "\n",
        "* **np.prod()**: Calcula el producto de todos los elementos en el arreglo o en un eje específico.\n",
        "\n",
        "6.3 *Ejemplos:*"
      ],
      "metadata": {
        "id": "rktPaDpx0hJx"
      }
    },
    {
      "cell_type": "code",
      "source": [
        "import numpy as np\n",
        "\n",
        "# Crear un arreglo bidimensional\n",
        "a = np.array([[1, 2, 3], [4, 5, 6], [7, 8, 9]])\n",
        "\n",
        "# Suma de todos los elementos\n",
        "print(\"Suma total de elementos:\", np.sum(a))  # Salida esperada: 45"
      ],
      "metadata": {
        "colab": {
          "base_uri": "https://localhost:8080/"
        },
        "id": "WQpA6vW91Akw",
        "outputId": "e6bffced-abb9-4f11-d5b1-52405921b278"
      },
      "execution_count": 21,
      "outputs": [
        {
          "output_type": "stream",
          "name": "stdout",
          "text": [
            "Suma total de elementos: 45\n"
          ]
        }
      ]
    },
    {
      "cell_type": "code",
      "source": [
        "# Promedio de todos los elementos\n",
        "print(\"Promedio de todos los elementos:\", np.mean(a))  # Salida esperada: 5.0"
      ],
      "metadata": {
        "colab": {
          "base_uri": "https://localhost:8080/"
        },
        "id": "8RWWD1Cs1FIe",
        "outputId": "383962ad-458e-421f-e894-a181c32402cb"
      },
      "execution_count": 16,
      "outputs": [
        {
          "output_type": "stream",
          "name": "stdout",
          "text": [
            "Promedio de todos los elementos: 5.0\n"
          ]
        }
      ]
    },
    {
      "cell_type": "code",
      "source": [
        "# Mínimo y máximo de todos los elementos\n",
        "print(\"Mínimo de todos los elementos:\", np.min(a))  # Salida esperada: 1\n",
        "print(\"Máximo de todos los elementos:\", np.max(a))  # Salida esperada: 9"
      ],
      "metadata": {
        "colab": {
          "base_uri": "https://localhost:8080/"
        },
        "id": "pBnJnkjr1G_g",
        "outputId": "607a81e6-b116-4ad2-bd80-627a0fa3643e"
      },
      "execution_count": 17,
      "outputs": [
        {
          "output_type": "stream",
          "name": "stdout",
          "text": [
            "Mínimo de todos los elementos: 1\n",
            "Máximo de todos los elementos: 9\n"
          ]
        }
      ]
    },
    {
      "cell_type": "code",
      "source": [
        "# Suma por filas y columnas\n",
        "print(\"Suma por filas:\", np.sum(a, axis=1))  # Salida esperada: [6 15 24]\n",
        "print(\"Suma por columnas:\", np.sum(a, axis=0))  # Salida esperada: [12 15 18]"
      ],
      "metadata": {
        "colab": {
          "base_uri": "https://localhost:8080/"
        },
        "id": "u4VOiz0i1Jzv",
        "outputId": "0ef10d64-c22a-4df1-80cd-2b554789fe5a"
      },
      "execution_count": 18,
      "outputs": [
        {
          "output_type": "stream",
          "name": "stdout",
          "text": [
            "Suma por filas: [ 6 15 24]\n",
            "Suma por columnas: [12 15 18]\n"
          ]
        }
      ]
    },
    {
      "cell_type": "code",
      "source": [
        "# Producto de todos los elementos\n",
        "print(\"Producto de todos los elementos:\", np.prod(a))  # Salida esperada: 362880"
      ],
      "metadata": {
        "colab": {
          "base_uri": "https://localhost:8080/"
        },
        "id": "IxUjsDoe1L7-",
        "outputId": "f3bdcf75-8518-429b-bb8e-aff4c9167b7f"
      },
      "execution_count": 19,
      "outputs": [
        {
          "output_type": "stream",
          "name": "stdout",
          "text": [
            "Producto de todos los elementos: 362880\n"
          ]
        }
      ]
    },
    {
      "cell_type": "markdown",
      "source": [
        "7. **Manipulación de la Forma de Arreglos.**\n",
        "\n",
        "A menudo, cuando se manejan datos en arreglos, necesitamos reorganizarlos o cambiar su forma para ajustarse a ciertas operaciones o visualizaciones. NumPy facilita esta manipulación mediante varias funciones:\n",
        "\n",
        "* **reshape()**:\n",
        "Permite cambiar la forma de un arreglo sin alterar sus datos. Por ejemplo, podemos cambiar un arreglo de 1D (como [1, 2, 3, 4]) a 2D (como [[1, 2], [3, 4]]). Sin embargo, el número total de elementos debe coincidir, es decir, un arreglo de tamaño 4 solo puede convertirse en una forma compatible con 4 elementos, como (2,2).\n",
        "\n",
        "* **ravel() y flatten()**:\n",
        "Ambas funciones transforman un arreglo multidimensional en uno unidimensional. ravel devuelve una vista (referencia) del arreglo original, lo que significa que si se modifica el arreglo resultante, también se cambia el original. flatten, en cambio, crea una copia independiente.\n",
        "\n",
        "* **transpose()**:\n",
        "Cambia el orden de los ejes de un arreglo, lo que es especialmente útil en álgebra lineal y operaciones en matrices. Por ejemplo, en un arreglo 2D, transpose intercambia las filas y las columnas.\n",
        "\n",
        "7.1 *Ejemplos:*"
      ],
      "metadata": {
        "id": "9CfR5Q7E1xVl"
      }
    },
    {
      "cell_type": "code",
      "source": [
        "import numpy as np\n",
        "\n",
        "# Crear un arreglo unidimensional\n",
        "a = np.array([1, 2, 3, 4, 5, 6])\n",
        "\n",
        "# Cambiar la forma del arreglo a 2x3\n",
        "b = a.reshape((2, 3))\n",
        "print(\"Arreglo con forma 2x3:\\n\", b)"
      ],
      "metadata": {
        "colab": {
          "base_uri": "https://localhost:8080/"
        },
        "id": "bSdbH2Yl2GD5",
        "outputId": "4be7fc9f-19f2-4ea3-f20b-71934320d65e"
      },
      "execution_count": 23,
      "outputs": [
        {
          "output_type": "stream",
          "name": "stdout",
          "text": [
            "Arreglo con forma 2x3:\n",
            " [[1 2 3]\n",
            " [4 5 6]]\n"
          ]
        }
      ]
    },
    {
      "cell_type": "code",
      "source": [
        "# Aplanar el arreglo a un solo vector\n",
        "c = b.ravel()\n",
        "print(\"Arreglo aplanado:\", c)"
      ],
      "metadata": {
        "colab": {
          "base_uri": "https://localhost:8080/"
        },
        "id": "_RUvtiQN2WdP",
        "outputId": "0c1057e9-9f9a-404b-9af2-ef466eb41b45"
      },
      "execution_count": 24,
      "outputs": [
        {
          "output_type": "stream",
          "name": "stdout",
          "text": [
            "Arreglo aplanado: [1 2 3 4 5 6]\n"
          ]
        }
      ]
    },
    {
      "cell_type": "code",
      "source": [
        "# Transponer un arreglo 2D\n",
        "d = np.array([[1, 2, 3], [4, 5, 6]])\n",
        "print(\"Arreglo original:\\n\", d)\n",
        "print(\"Arreglo transpuesto:\\n\", d.transpose())"
      ],
      "metadata": {
        "colab": {
          "base_uri": "https://localhost:8080/"
        },
        "id": "TSlVNRP12Y20",
        "outputId": "7011174d-c7c0-4143-d060-143110dfe54c"
      },
      "execution_count": 25,
      "outputs": [
        {
          "output_type": "stream",
          "name": "stdout",
          "text": [
            "Arreglo original:\n",
            " [[1 2 3]\n",
            " [4 5 6]]\n",
            "Arreglo transpuesto:\n",
            " [[1 4]\n",
            " [2 5]\n",
            " [3 6]]\n"
          ]
        }
      ]
    },
    {
      "cell_type": "markdown",
      "source": [
        "8. **Tablas de Datos.**\n",
        "\n",
        "Los arreglos bidimensionales en NumPy pueden representar tablas de datos, donde cada fila es un registro (ej., una observación o muestra) y cada columna representa una variable (ej., una característica o atributo). NumPy permite realizar cálculos y análisis sobre estos datos de manera eficiente.\n",
        "\n",
        "8.1 *Operaciones en Tablas:*\n",
        "\n",
        "Las operaciones en tablas pueden aplicarse por filas o columnas usando el parámetro axis. Por ejemplo, para calcular el promedio de cada columna, usamos np.mean(data, axis=0).\n",
        "\n",
        "8.2 *Selección de Subconjuntos de Tablas:*\n",
        "\n",
        "Usando la indexación y el slicing, podemos seleccionar partes específicas de la tabla, como todas las filas de una columna específica, o un subconjunto de filas y columnas.\n",
        "\n",
        "8.3 *Análisis Estadístico:*\n",
        "\n",
        "NumPy ofrece varias funciones estadísticas que facilitan el análisis de datos en formato tabular, como np.mean, np.median, np.std (desviación estándar), np.var (varianza), entre otras. Estas funciones son útiles para resumir y entender las características de los datos en cada columna.\n",
        "\n",
        "8.4 *Ejemplos:*"
      ],
      "metadata": {
        "id": "vpqKa1AG2esH"
      }
    },
    {
      "cell_type": "code",
      "source": [
        "# Crear un arreglo bidimensional que representa una tabla de datos\n",
        "data = np.array([[5.1, 3.5, 1.4, 0.2],\n",
        "                 [4.9, 3.0, 1.4, 0.2],\n",
        "                 [6.7, 3.1, 4.4, 1.4],\n",
        "                 [5.9, 3.2, 4.8, 1.8]])\n",
        "\n",
        "# Seleccionar la primera columna (todas las filas)\n",
        "print(\"Primera columna:\", data[:, 0])"
      ],
      "metadata": {
        "colab": {
          "base_uri": "https://localhost:8080/"
        },
        "id": "rZ1s92bG3Dud",
        "outputId": "67fb3aec-bbce-4e16-d403-06a7f20dcebb"
      },
      "execution_count": 26,
      "outputs": [
        {
          "output_type": "stream",
          "name": "stdout",
          "text": [
            "Primera columna: [5.1 4.9 6.7 5.9]\n"
          ]
        }
      ]
    },
    {
      "cell_type": "code",
      "source": [
        "# Calcular el promedio de cada columna\n",
        "print(\"Promedio de cada columna:\", np.mean(data, axis=0))"
      ],
      "metadata": {
        "colab": {
          "base_uri": "https://localhost:8080/"
        },
        "id": "chho7-al3J5I",
        "outputId": "472ac050-8188-4141-e58d-3331b4a9ff28"
      },
      "execution_count": 27,
      "outputs": [
        {
          "output_type": "stream",
          "name": "stdout",
          "text": [
            "Promedio de cada columna: [5.65 3.2  3.   0.9 ]\n"
          ]
        }
      ]
    },
    {
      "cell_type": "code",
      "source": [
        "# Calcular la desviación estándar de cada columna\n",
        "print(\"Desviación estándar de cada columna:\", np.std(data, axis=0))"
      ],
      "metadata": {
        "colab": {
          "base_uri": "https://localhost:8080/"
        },
        "id": "5UQ8fD1H3MLw",
        "outputId": "c2a984c6-ae12-40e6-dea8-f4cbe658f68c"
      },
      "execution_count": 28,
      "outputs": [
        {
          "output_type": "stream",
          "name": "stdout",
          "text": [
            "Desviación estándar de cada columna: [0.71239034 0.18708287 1.60623784 0.71414284]\n"
          ]
        }
      ]
    },
    {
      "cell_type": "code",
      "source": [
        "# Seleccionar un subconjunto de la tabla (las primeras dos filas y dos primeras columnas)\n",
        "print(\"Subconjunto de la tabla:\\n\", data[:2, :2])"
      ],
      "metadata": {
        "colab": {
          "base_uri": "https://localhost:8080/"
        },
        "id": "SHccl70q3OTe",
        "outputId": "6200f9b3-a859-404f-a554-76731b00d9a1"
      },
      "execution_count": 29,
      "outputs": [
        {
          "output_type": "stream",
          "name": "stdout",
          "text": [
            "Subconjunto de la tabla:\n",
            " [[5.1 3.5]\n",
            " [4.9 3. ]]\n"
          ]
        }
      ]
    },
    {
      "cell_type": "markdown",
      "source": [
        "9. **Conclusión.**\n",
        "\n",
        "A lo largo de este tutorial, exploramos las funcionalidades esenciales de la librería NumPy, desde la creación de arreglos y manipulación de datos hasta la aplicación de operaciones avanzadas. NumPy es una herramienta fundamental en el trabajo con datos en Python debido a su eficiencia y capacidad para manejar grandes volúmenes de datos, especialmente en aplicaciones científicas y de ingeniería. Su uso optimiza el procesamiento de datos y permite realizar cálculos complejos de manera mucho más rápida que con estructuras de datos tradicionales de Python, como las listas.\n",
        "\n",
        "Al aprender sobre operaciones básicas, manipulación de formas y el trabajo con tablas de datos, obtuviste una base sólida para tareas como análisis de datos, interpolación, y futuras aplicaciones en álgebra lineal y estadísticas. Practicar con estos conceptos y aplicar NumPy en proyectos o problemas específicos te ayudará a familiarizarte aún más con sus capacidades y descubrir nuevas aplicaciones prácticas."
      ],
      "metadata": {
        "id": "BTR-Z8_v3P4p"
      }
    },
    {
      "cell_type": "markdown",
      "source": [
        "10. **Fuentes adicionales para aprender más sobre NumPy.**\n",
        "\n",
        "Para continuar tu aprendizaje y profundizar en el uso de NumPy, puedes explorar las siguientes fuentes:\n",
        "\n",
        "\n",
        "1.   **Documentación Oficial de NumPy**: La documentación oficial es el mejor lugar para obtener información detallada sobre cada función y utilidad de NumPy. También incluye ejemplos y guías de uso. -> [NumPy Documentation](https://numpy.org/doc/)\n",
        "2.   **NumPy User Guide**: Esta guía, dentro de la documentación oficial, es muy útil para principiantes e intermedios, y cubre temas básicos y avanzados. -> [NumPy User Guide](https://numpy.org/doc/stable/user/)\n",
        "3.   **Python Data Science Handbook de Jake VanderPlas**: Este libro es una excelente introducción práctica a NumPy y otras librerías de Python enfocadas en ciencia de datos, como pandas y Matplotlib. -> [Python Data Science Handbook](https://jakevdp.github.io/PythonDataScienceHandbook/)\n",
        "4.   **Khan Academy y Coursera**: En estas plataformas, encontrarás cursos de introducción al álgebra lineal y estadística, que pueden complementar el conocimiento en NumPy al entender mejor cómo usarlo en operaciones matemáticas.\n",
        "5.  **Tutoriales de NumPy en Jupyter Notebooks**: Existen numerosos tutoriales interactivos en plataformas como Google Colab o [Kaggle](https://www.kaggle.com/) que permiten practicar directamente en un entorno Jupyter Notebook.\n"
      ],
      "metadata": {
        "id": "ZAls2J3k3bT7"
      }
    }
  ]
}